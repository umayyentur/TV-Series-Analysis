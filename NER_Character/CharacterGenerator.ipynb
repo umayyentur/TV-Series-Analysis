{
 "cells": [
  {
   "cell_type": "code",
   "execution_count": 31,
   "metadata": {},
   "outputs": [],
   "source": [
    "import os \n",
    "import sys \n",
    "import pathlib  \n",
    "import spacy\n",
    "import pandas as pd \n",
    "import matplotlib.pyplot as plt\n",
    "import networkx as nx  \n",
    "from pyvis.network import Network\n",
    "from nltk import sent_tokenize\n",
    "folder_path = pathlib.Path().parent.resolve()\n",
    "sys.path.append(os.path.join(folder_path, '../'))\n",
    "from Utils import load_subs_datasets"
   ]
  },
  {
   "cell_type": "code",
   "execution_count": 32,
   "metadata": {},
   "outputs": [],
   "source": [
    "def load_model():\n",
    "    return spacy.load('en_core_web_trf')\n",
    "\n",
    "nlp_model = load_model()\n",
    "\n",
    "dataset_path = \"../data/Subtitles/\"\n",
    "df = load_subs_datasets(dataset_path)"
   ]
  },
  {
   "cell_type": "code",
   "execution_count": 6,
   "metadata": {},
   "outputs": [
    {
     "name": "stderr",
     "output_type": "stream",
     "text": [
      "/Library/Frameworks/Python.framework/Versions/3.10/lib/python3.10/site-packages/thinc/shims/pytorch.py:114: FutureWarning: `torch.cuda.amp.autocast(args...)` is deprecated. Please use `torch.amp.autocast('cuda', args...)` instead.\n",
      "  with torch.cuda.amp.autocast(self._mixed_precision):\n"
     ]
    }
   ],
   "source": [
    "sample_script = df.iloc[0]['script']\n",
    "sentence = sent_tokenize(sample_script)\n",
    "sentence = \".\".join(sentence)\n",
    "doc = nlp_model(sentence)"
   ]
  },
  {
   "cell_type": "code",
   "execution_count": 7,
   "metadata": {},
   "outputs": [
    {
     "name": "stdout",
     "output_type": "stream",
     "text": [
      "nine CARDINAL\n",
      "Ninjas NORP\n",
      "Fourth ORDINAL\n",
      "Ninja NORP\n",
      "Ninja PERSON\n",
      "Fourth ORDINAL\n",
      "Naruto PERSON\n",
      "lruka Sensei?.The PERSON\n",
      "Naruto PERSON\n",
      "the Transformation Jutsu!.Even PRODUCT\n",
      "Haruno PERSON\n",
      "Sasuke Uchiha PERSON\n",
      "Naruto Uzumaki PERSON\n",
      "Naruto PERSON\n",
      "Naruto PERSON\n",
      "tonight TIME\n",
      "Naruto Uzumaki!.Naruto PERSON\n",
      "Ninja NORP\n",
      "Fourth ORDINAL\n",
      "nine CARDINAL\n",
      "Leaf PERSON\n",
      "Ninja Academy ORG\n",
      "Tomorrow DATE\n",
      "One more bowl QUANTITY\n",
      "three or more CARDINAL\n",
      "Naruto PERSON\n",
      "Ninja NORP\n",
      "Ninja NORP\n",
      "Iruka PERSON\n",
      "Iruka Sensei PERSON\n",
      "Naruto PERSON\n",
      "Iruka Sensei!.What PERSON\n",
      "Hokage PERSON\n",
      "Naruto PERSON\n",
      "the Scroll of Sealing WORK_OF_ART\n",
      "The Scroll of Sealing?!.Let WORK_OF_ART\n",
      "first ORDINAL\n",
      "First ORDINAL\n",
      "Naruto PERSON\n",
      "Naruto PERSON\n",
      "the Scroll of Sealing WORK_OF_ART\n",
      "one CARDINAL\n",
      "one CARDINAL\n",
      "Jutsu WORK_OF_ART\n",
      "Mizuki PERSON\n",
      "Naruto PERSON\n",
      "Mizuki PERSON\n",
      "Iruka PERSON\n",
      "12 years ago DATE\n",
      "Naruto PERSON\n",
      "Iruka PERSON\n",
      "Iruka PERSON\n",
      "Naruto PERSON\n",
      "Naruto PERSON\n",
      "the Scroll of Sealing WORK_OF_ART\n",
      "Naruto PERSON\n",
      "Naruto PERSON\n",
      "Mizuki PERSON\n",
      "The Scroll of Sealing WORK_OF_ART\n",
      "Mizuki PERSON\n",
      "Iruka PERSON\n",
      "Iruka PERSON\n",
      "Naruto PERSON\n",
      "Iruka Sensei PERSON\n",
      "Naruto PERSON\n",
      "Naruto Uzumaki PERSON\n",
      "the Village Hidden in the Leaves!.You FAC\n",
      "Iruka Sensei PERSON\n",
      "thousand CARDINAL\n",
      "one CARDINAL\n",
      "lruka Sensei PERSON\n",
      "Hokage ORG\n",
      "Naruto PERSON\n",
      "Naruto PERSON\n",
      "Sensei PERSON\n",
      "Ninja NORP\n",
      "Fifth ORDINAL\n",
      "3rd ORDINAL\n",
      "My Name Is Konohamaru!\" WORK_OF_ART\n"
     ]
    }
   ],
   "source": [
    "for entity in doc.ents:\n",
    "    print(entity.text, entity.label_)"
   ]
  },
  {
   "cell_type": "code",
   "execution_count": 8,
   "metadata": {},
   "outputs": [],
   "source": [
    "def get_ners_inference(script):\n",
    "    script_sentences = sent_tokenize(script)\n",
    "    ner_output = []\n",
    "    \n",
    "    for sentence in script_sentences:\n",
    "        doc = nlp_model(sentence)\n",
    "        ners = set()\n",
    "        for entity in doc.ents:\n",
    "            if entity.label_ == 'PERSON':\n",
    "                full_name = entity.text\n",
    "                first_name = entity.text.split()[0]\n",
    "                first_name = first_name.strip()\n",
    "                ners.add(first_name)\n",
    "                \n",
    "        ner_output.append(ners)\n",
    "    return ner_output"
   ]
  },
  {
   "cell_type": "code",
   "execution_count": 9,
   "metadata": {},
   "outputs": [],
   "source": [
    "df = df.head(10)\n",
    "df['ners'] = df['script'].apply(get_ners_inference)"
   ]
  },
  {
   "cell_type": "code",
   "execution_count": 24,
   "metadata": {},
   "outputs": [],
   "source": [
    "def generate_character_network(df):\n",
    "    windows = 10 \n",
    "    entity_relationship = []\n",
    "    \n",
    "    for row in df['ners']:\n",
    "        previous_entities = []\n",
    "        \n",
    "        for sentence in row:\n",
    "            previous_entities.append(list(sentence))\n",
    "            previous_entities = previous_entities[-windows:]\n",
    "            \n",
    "            previous_entities_flattened = sum(previous_entities, [])\n",
    "            \n",
    "            for entity in sentence:\n",
    "                for entity_in_window in previous_entities_flattened:\n",
    "                    if entity != entity_in_window:\n",
    "                        entity_relationship.append(sorted([entity, entity_in_window]))\n",
    "                        \n",
    "                        \n",
    "    relationship_df = pd.DataFrame({'value': entity_relationship})\n",
    "    relationship_df['source'] = relationship_df['value'].apply(lambda x: x[0])\n",
    "    relationship_df['target'] = relationship_df['value'].apply(lambda x: x[1])\n",
    "    relationship_df = relationship_df.groupby(['source', 'target']).count().reset_index()\n",
    "    relationship_df = relationship_df.sort_values('value', ascending=False)\n",
    "    return relationship_df        \n",
    "            "
   ]
  },
  {
   "cell_type": "code",
   "execution_count": null,
   "metadata": {},
   "outputs": [],
   "source": [
    "relation_df = generate_character_network(df)\n",
    "relationship_df = relation_df.sort_values('value', ascending=False)\n",
    "relation_df = relation_df.head(200)"
   ]
  },
  {
   "cell_type": "code",
   "execution_count": 30,
   "metadata": {},
   "outputs": [
    {
     "name": "stdout",
     "output_type": "stream",
     "text": [
      "character_network.html\n"
     ]
    },
    {
     "data": {
      "text/html": [
       "\n",
       "        <iframe\n",
       "            width=\"1000px\"\n",
       "            height=\"700px\"\n",
       "            src=\"character_network.html\"\n",
       "            frameborder=\"0\"\n",
       "            allowfullscreen\n",
       "            \n",
       "        ></iframe>\n",
       "        "
      ],
      "text/plain": [
       "<IPython.lib.display.IFrame at 0x342bf3220>"
      ]
     },
     "execution_count": 30,
     "metadata": {},
     "output_type": "execute_result"
    }
   ],
   "source": [
    "G = nx.from_pandas_edgelist(relation_df, 'source', 'target', edge_attr ='value', create_using=nx.Graph())\n",
    "\n",
    "\n",
    "net = Network(notebook=True, width=\"1000px\", height=\"700px\", bgcolor=\"#222222\", font_color=\"white\", cdn_resources=\"remote\") \n",
    "node_degrees = dict(G.degree)\n",
    "nx.set_node_attributes(G, node_degrees, 'size')\n",
    "net.from_nx(G)\n",
    "net.show(\"character_network.html\")"
   ]
  }
 ],
 "metadata": {
  "kernelspec": {
   "display_name": "Python 3",
   "language": "python",
   "name": "python3"
  },
  "language_info": {
   "codemirror_mode": {
    "name": "ipython",
    "version": 3
   },
   "file_extension": ".py",
   "mimetype": "text/x-python",
   "name": "python",
   "nbconvert_exporter": "python",
   "pygments_lexer": "ipython3",
   "version": "3.10.2"
  }
 },
 "nbformat": 4,
 "nbformat_minor": 2
}
